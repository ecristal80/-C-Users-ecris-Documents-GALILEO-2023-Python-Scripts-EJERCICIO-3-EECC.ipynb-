{
 "cells": [
  {
   "cell_type": "markdown",
   "id": "292d3f50",
   "metadata": {},
   "source": [
    "1. Haga un programa en Python que reciba de parámetro un número de segundos y que despliegue en pantalla, las horas, minutos y segundos que representa"
   ]
  },
  {
   "cell_type": "code",
   "execution_count": 3,
   "id": "7c14ff0e",
   "metadata": {},
   "outputs": [
    {
     "name": "stdout",
     "output_type": "stream",
     "text": [
      "ingrese cantidad de segundos:2743\n",
      "Horas\n",
      "0\n",
      "Minutos\n",
      "45\n",
      "Segundos\n",
      "43\n"
     ]
    }
   ],
   "source": [
    "segundos=input(\"ingrese cantidad de segundos:\")#\"2743\"\n",
    "segundos=int(segundos)\n",
    "horas=segundos//3600 #1\n",
    "sobrante1=segundos%3600 #43\n",
    "minutos=sobrante1//60 #1\n",
    "sobrante2= sobrante1%60 #3\n",
    "print(\"Horas\")\n",
    "print(horas)\n",
    "print(\"Minutos\")\n",
    "print(minutos)\n",
    "print(\"Segundos\")\n",
    "print(sobrante2)"
   ]
  },
  {
   "cell_type": "markdown",
   "id": "6829784b",
   "metadata": {},
   "source": [
    "2. Haga una función en Python que dado un número entre 1 y 20. Y un carácter cualquiera despliegue cuatro patrones triangulares. Por ejemplo si el usuario ingresara el número 4 y el símbolo * el programa deberá desplegar lo siguiente:"
   ]
  },
  {
   "cell_type": "code",
   "execution_count": 5,
   "id": "102f6021",
   "metadata": {},
   "outputs": [
    {
     "name": "stdout",
     "output_type": "stream",
     "text": [
      "Introduce un número entre 1 y 20 4\n",
      "\n",
      "*\n",
      "**\n",
      "***\n",
      "****\n",
      "    \n",
      "   *\n",
      "  **\n",
      " ***\n",
      "****\n"
     ]
    }
   ],
   "source": [
    "n=int(input(\"Introduce un número entre 1 y 20 \"))\n",
    "for i in range(n+1):\n",
    "    print('*'*i)\n",
    "    \n",
    "for i in range(n+1):\n",
    "    espacios=n-i\n",
    "    print(' '*espacios+'*'*i)\n",
    "    \n"
   ]
  },
  {
   "cell_type": "markdown",
   "id": "7cf614d6",
   "metadata": {},
   "source": [
    "3. Haga un programa en Python que la fecha de nacimiento de una persona (puede ingresar por separado cada valor, es decir pedir primero día, luego mes y luego año), despliegue la edad de la persona en años, meses y días. Su resultado puede ser aproximado."
   ]
  },
  {
   "cell_type": "code",
   "execution_count": 6,
   "id": "596d2d4c",
   "metadata": {},
   "outputs": [
    {
     "name": "stdout",
     "output_type": "stream",
     "text": [
      "Ingrese su año de nacimiento: 1980\n",
      "Ingrese su mes(número) de nacimiento: 9\n",
      "Ingrese su día () de nacimiento: 18\n",
      "43\n",
      "Tu edad es: 42\n"
     ]
    }
   ],
   "source": [
    "from datetime import date\n",
    "\n",
    "import os\n",
    "os.system(\"cls\")\n",
    "\n",
    "anio=int(input(\"Ingrese su año de nacimiento: \"))\n",
    "mes=int(input(\"Ingrese su mes(número) de nacimiento: \"))\n",
    "dia=int(input(\"Ingrese su día () de nacimiento: \"))\n",
    "\n",
    "anioActual = date.today().year\n",
    "mesActual = date.today().month\n",
    "diaActual = date.today().day\n",
    "\n",
    "edad = anioActual - anio\n",
    "print(edad)\n",
    "\n",
    "if mes> mesActual:\n",
    "    if dia > diaActual:\n",
    "        edad = edad -1\n",
    "        print(\"Tu edad es:\",edad)\n",
    "else:\n",
    "    print(\"Tu edad es:\",edad)"
   ]
  },
  {
   "cell_type": "markdown",
   "id": "ccc02855",
   "metadata": {},
   "source": [
    "4. Escriba una funci´on en Python que dada una tupla de elementos (nu´meros o letras) esta se convierta a un string. Tomar nota del siguiente ejemplo:\n",
    "\n",
    "Si la entrada fuera: (10, 20, 40, 5, 70)\n",
    "La salida deber´ıa ser: 102040570"
   ]
  },
  {
   "cell_type": "code",
   "execution_count": 2,
   "id": "aecd9b77",
   "metadata": {},
   "outputs": [
    {
     "name": "stdout",
     "output_type": "stream",
     "text": [
      "<class 'str'>\n",
      "102040570\n"
     ]
    }
   ],
   "source": [
    "Entrada = ('10', '20', '40', '5','70' )\n",
    "\n",
    "resultado = ''.join(entrada)\n",
    "\n",
    "print(type(resultado))\n",
    "print(102040570)"
   ]
  },
  {
   "cell_type": "markdown",
   "id": "e35b92ee",
   "metadata": {},
   "source": [
    "5. Cree un programa en Python que dada una lista de tuplas, elimine las tuplas que están vacıas.\n",
    "\n",
    "Tomar nota del siguiente ejemplo:\n",
    "\n",
    "Si la lista fuera: [(), (), (’X’,), (’a’, ’b’), (’a’, ’b’, ’c’), (’d’)]\n",
    "El resultado deber´ıa ser: [(’X’), (’a’, ’b’), (’a’, ’b’, ’c’), ’d’"
   ]
  },
  {
   "cell_type": "code",
   "execution_count": 3,
   "id": "02a9c9c0",
   "metadata": {},
   "outputs": [
    {
     "name": "stdout",
     "output_type": "stream",
     "text": [
      "[(), (), (X,), (a, b), (a, b, c, (d)]\n",
      "37\n",
      "\n",
      "['[', '(', ')', ',', ' ', '(', ')', ',', ' ', '(', 'X', ',', ')', ',', ' ', '(', 'a', ',', ' ', 'b', ')', ',', ' ', '(', 'a', ',', ' ', 'b', ',', ' ', 'c', ',', ' ', '(', 'd', ')', ']']\n",
      "37\n"
     ]
    }
   ],
   "source": [
    "tupla = '[(), (), (X,), (a, b), (a, b, c, (d)]'\n",
    "\n",
    "print(tupla)  \n",
    "print(len(tupla))    \n",
    "\n",
    "print()\n",
    "\n",
    "tupla = [t for t in tupla if t]\n",
    "\n",
    "print(tupla)\n",
    "print(len(tupla))  "
   ]
  },
  {
   "cell_type": "markdown",
   "id": "16395a05",
   "metadata": {},
   "source": [
    "6. Cree una funci´on en Python que dada una tupla de tuplas con nu´meros, produzca una tupla con el promedio de cada tupla individual. Tomar nota del siguiente ejemplo:\n",
    "\n",
    "Si la tupla de entrada fuera: ((10, 10, 10, 12), (30, 45, 56, 45), (81, 80, 39, 32))\n",
    "El resultado deber´ıa ser: (10.5, 44, 58)"
   ]
  },
  {
   "cell_type": "code",
   "execution_count": 10,
   "id": "eb052427",
   "metadata": {},
   "outputs": [],
   "source": [
    "import statistics\n",
    "import numpy"
   ]
  },
  {
   "cell_type": "code",
   "execution_count": null,
   "id": "e5f81ff7",
   "metadata": {},
   "outputs": [],
   "source": [
    "tupla = '((10, 10, 10, 12), (30, 45, 56, 45), (81, 80, 39, 32))'\n",
    "print(tupla)\n",
    "\n",
    "mean = sum(tupla)/float(len(tupla))\n",
    "print(mean)"
   ]
  },
  {
   "cell_type": "markdown",
   "id": "af98017b",
   "metadata": {},
   "source": [
    "7. Escribir un programa que gestione las facturas pendientes de cobro de una empresa. Las facturas se almacenarán en un diccionario donde la llave de cada factura será el número de factura (debe utilizar un numero de 4 dígitos) y el valor el coste de la factura. El programa debe preguntar al usuario si quiere añadir una nueva factura, pagar una existente o terminar.\n",
    "Si desea añadir una nueva factura se preguntará por el nu´mero de factura y su coste y se an˜adir´a al diccionario, para confirmar que la factura se ingreso correctamente el programa debe desplegar el diccionario completo. Si se desea pagar una factura se preguntar´a por el nu´mero de factura y se eliminar´a del diccionario. Despu´es de cada operaci´on el programa\n",
    "debe mostrar en pantalla la cantidad cobrada hasta el momento y la cantidad pendiente de\n",
    "cobro. Puede utilizar otras estructuras de datos como apoyo si lo considera necesario."
   ]
  },
  {
   "cell_type": "code",
   "execution_count": null,
   "id": "72e373c3",
   "metadata": {},
   "outputs": [
    {
     "name": "stdout",
     "output_type": "stream",
     "text": [
      "Recaudado: 0\n",
      "Pendiente de cobro:  0\n"
     ]
    }
   ],
   "source": [
    "invoices = {}\n",
    "collected = 0\n",
    "remains = 0\n",
    "more = ''\n",
    "while more != 'T':\n",
    "    if more == 'A':\n",
    "        key = input('Introduce el número de la factura: ')\n",
    "        cost = float(input('Introduce el coste de la factura: '))\n",
    "        invoices[key] = cost\n",
    "        remains += cost\n",
    "    if more == 'P':\n",
    "        key = input('Introduce el número de la factura a pagar: ')\n",
    "        cost = invoices.pop(key, 0)\n",
    "        collected += cost\n",
    "        remains -= cost\n",
    "    print('Recaudado:', collected)\n",
    "    print('Pendiente de cobro: ', remains)\n",
    "    more = input('¿Quieres añadir una nueva factura (A), pagarla (P) o terminar (T)? ')"
   ]
  },
  {
   "cell_type": "markdown",
   "id": "f34dfc1d",
   "metadata": {},
   "source": [
    "Haga una funci´on en Python, que cree un set con todas las cartas de una baraja de Pocker utilizando el siguiente formato: Tipo-Numero. Utilice las letras T para tr´eboles, C para\n",
    "corazones, P para picas y E para espadas. Para los nu´meros utilice la numeraci´on del 1 al\n",
    "13. Por ejemplo E13 - ser´ıa Rey de Espadas, P01 sería As de Picas, T05 ser´ıa cinco de Tr´eboles.\n",
    "Posteriormente cree una funci´on que dado el conjunto anterior cree dos sets nuevos de cartas,\n",
    "cada conjunto debe tener una cantidad variable de elementos, puede utilizar nu´meros aleatorios enteros para definir la longitud de los conjuntos.\n",
    "Adicionalmente, deber´a calcular la probabilidad de la intersecci´on de ambos conjuntos y demuestre si son eventos independientes con la regla del producto.\n",
    "Para concluir, calcule probabilidad de la uni´on de ambos conjuntos y demuestre que se cumple\n",
    "la regla de la adición."
   ]
  },
  {
   "cell_type": "code",
   "execution_count": null,
   "id": "8aa63def",
   "metadata": {},
   "outputs": [],
   "source": [
    "import random\n",
    " \n",
    "valor = [\"A\",\"2\",\"3\",\"4\",\"5\",\"6\",\"7\",\"J\",\"Q\",\"K\"]\n",
    "color = [\"espadas\",\"copas\",\"oros\",\"bastos\"]\n",
    "baraja = []\n",
    " \n",
    "for v in valor:\n",
    "    for c in color:\n",
    "        carta = \"{} de  {}\".format(v,c)\n",
    "        baraja.append(carta)\n",
    "random.shuffle(baraja)\n",
    "print(baraja)\n",
    " \n",
    "jug = []\n",
    "jug1 = []\n",
    " \n",
    "jug.extend([baraja.pop(), baraja.pop()])\n",
    "jug1.extend([baraja.pop(), baraja.pop()])\n"
   ]
  }
 ],
 "metadata": {
  "kernelspec": {
   "display_name": "Python 3 (ipykernel)",
   "language": "python",
   "name": "python3"
  },
  "language_info": {
   "codemirror_mode": {
    "name": "ipython",
    "version": 3
   },
   "file_extension": ".py",
   "mimetype": "text/x-python",
   "name": "python",
   "nbconvert_exporter": "python",
   "pygments_lexer": "ipython3",
   "version": "3.9.13"
  }
 },
 "nbformat": 4,
 "nbformat_minor": 5
}
